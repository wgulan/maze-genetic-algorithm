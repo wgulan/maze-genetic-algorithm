{
 "cells": [
  {
   "cell_type": "markdown",
   "metadata": {},
   "source": [
    "# Labirynt\n",
    "***\n",
    "<img src=\"maze.png\">"
   ]
  },
  {
   "cell_type": "code",
   "execution_count": 1,
   "metadata": {},
   "outputs": [],
   "source": [
    "import time\n",
    "import queue\n",
    "import random\n",
    "import math\n",
    "import numpy as np\n",
    "import matplotlib.pyplot as plt\n",
    "from deap import base, creator, tools, algorithms"
   ]
  },
  {
   "cell_type": "code",
   "execution_count": 2,
   "metadata": {},
   "outputs": [],
   "source": [
    "\"\"\"\n",
    "> 0 - ściana\n",
    "> 1 - pole\n",
    "\"\"\"\n",
    "maze = [[0,0,0,0,0,0,0,0,0,0,0,0],\n",
    "        [0,1,1,1,0,1,1,1,0,1,1,0],\n",
    "        [0,0,0,1,1,1,0,1,0,0,1,0],\n",
    "        [0,1,1,1,0,1,0,1,1,1,1,0],\n",
    "        [0,1,0,1,0,0,0,1,0,0,1,0],\n",
    "        [0,1,1,0,0,1,1,1,0,1,1,0],\n",
    "        [0,1,1,1,1,1,0,1,1,1,0,0],\n",
    "        [0,1,0,1,1,0,0,1,0,1,1,0],\n",
    "        [0,1,0,0,0,1,1,1,0,0,1,0],\n",
    "        [0,1,0,1,0,0,1,0,1,0,1,0],\n",
    "        [0,1,0,1,1,1,1,1,1,1,1,0],\n",
    "        [0,0,0,0,0,0,0,0,0,0,0,0]]\n",
    "\n",
    "START_LOCATION = [1,1]\n",
    "END_LOCATION = [10,10]"
   ]
  },
  {
   "cell_type": "markdown",
   "metadata": {},
   "source": [
    "### Przeszukiwanie wszerz\n",
    "---"
   ]
  },
  {
   "cell_type": "code",
   "execution_count": 3,
   "metadata": {},
   "outputs": [
    {
     "name": "stdout",
     "output_type": "stream",
     "text": [
      "Found: RRDRRURRDDDDDRRDRDDD\n",
      "# # # # # # # # # # # # \n",
      "#   - - # - - - #     # \n",
      "# # # - - - # - # #   # \n",
      "#       #   # -       # \n",
      "#   #   # # # - # #   # \n",
      "#     # #     - #     # \n",
      "#           # - - - # # \n",
      "#   #     # #   # - - # \n",
      "#   # # #       # # - # \n",
      "#   #   # #   #   # - # \n",
      "#   #               - # \n",
      "# # # # # # # # # # # # \n",
      "Tries:  296\n"
     ]
    }
   ],
   "source": [
    "maze2 = [[\"#\",\"#\",\"#\",\"#\",\"#\",\"#\",\"#\",\"#\",\"#\",\"#\",\"#\",\"#\"],\n",
    "        [\"#\",\" \",\" \",\" \",\"#\",\" \",\" \",\" \",\"#\",\" \",\" \",\"#\"],\n",
    "        [\"#\",\"#\",\"#\",\" \",\" \",\" \",\"#\",\" \",\"#\",\"#\",\" \",\"#\"],\n",
    "        [\"#\",\" \",\" \",\" \",\"#\",\" \",\"#\",\" \",\" \",\" \",\" \",\"#\"],\n",
    "        [\"#\",\" \",\"#\",\" \",\"#\",\"#\",\"#\",\" \",\"#\",\"#\",\" \",\"#\"],\n",
    "        [\"#\",\" \",\" \",\"#\",\"#\",\" \",\" \",\" \",\"#\",\" \",\" \",\"#\"],\n",
    "        [\"#\",\" \",\" \",\" \",\" \",\" \",\"#\",\" \",\" \",\" \",\"#\",\"#\"],\n",
    "        [\"#\",\" \",\"#\",\" \",\" \",\"#\",\"#\",\" \",\"#\",\" \",\" \",\"#\"],\n",
    "        [\"#\",\" \",\"#\",\"#\",\"#\",\" \",\" \",\" \",\"#\",\"#\",\" \",\"#\"],\n",
    "        [\"#\",\" \",\"#\",\" \",\"#\",\"#\",\" \",\"#\",\" \",\"#\",\" \",\"#\"],\n",
    "        [\"#\",\" \",\"#\",\" \",\" \",\" \",\" \",\" \",\" \",\" \",\" \",\"#\"],\n",
    "        [\"#\",\"#\",\"#\",\"#\",\"#\",\"#\",\"#\",\"#\",\"#\",\"#\",\"#\",\"#\"]]\n",
    "\n",
    "def printMaze(maze, path=\"\"):\n",
    "    i = 1\n",
    "    j = 1\n",
    "    pos = set()\n",
    "    for move in path:\n",
    "        if move == \"L\":\n",
    "            i -= 1\n",
    "\n",
    "        elif move == \"R\":\n",
    "            i += 1\n",
    "\n",
    "        elif move == \"U\":\n",
    "            j -= 1\n",
    "\n",
    "        elif move == \"D\":\n",
    "            j += 1\n",
    "        pos.add((j, i))\n",
    "    \n",
    "    for j, row in enumerate(maze):\n",
    "        for i, col in enumerate(row):\n",
    "            if (j, i) in pos:\n",
    "                print(\"- \", end=\"\")\n",
    "            else:\n",
    "                print(col + \" \", end=\"\")\n",
    "        print()\n",
    "        \n",
    "def isNotPrevious(move, last):\n",
    "    if move == \"L\" and last == \"R\":\n",
    "        return False\n",
    "\n",
    "    elif move == \"R\" and last == \"L\":\n",
    "        return False\n",
    "\n",
    "    elif move == \"D\" and last == \"U\":\n",
    "        return False\n",
    "\n",
    "    elif move == \"U\" and last == \"D\":\n",
    "        return False\n",
    "    \n",
    "    return True\n",
    "\n",
    "def valid(maze, moves):\n",
    "    i = 1\n",
    "    j = 1\n",
    "    for move in moves:\n",
    "        if move == \"L\":\n",
    "            i -= 1\n",
    "\n",
    "        elif move == \"R\":\n",
    "            i += 1\n",
    "\n",
    "        elif move == \"U\":\n",
    "            j -= 1\n",
    "\n",
    "        elif move == \"D\":\n",
    "            j += 1\n",
    "\n",
    "        if not(0 <= i < len(maze[0]) and 0 <= j < len(maze)):\n",
    "            return False\n",
    "        elif (maze[j][i] == \"#\"):\n",
    "            return False\n",
    "\n",
    "    return True\n",
    "\n",
    "\n",
    "def findEnd(maze, moves):\n",
    "    i = 1\n",
    "    j = 1\n",
    "    for move in moves:\n",
    "        if move == \"L\":\n",
    "            i -= 1\n",
    "\n",
    "        elif move == \"R\":\n",
    "            i += 1\n",
    "\n",
    "        elif move == \"U\":\n",
    "            j -= 1\n",
    "\n",
    "        elif move == \"D\":\n",
    "            j += 1\n",
    "\n",
    "    if i == 10 and j == 10:\n",
    "        print(\"Found: \" + moves)\n",
    "        printMaze(maze, moves)\n",
    "        return True\n",
    "\n",
    "    return False\n",
    "\n",
    "\n",
    "nums = queue.Queue()\n",
    "nums.put(\"\")\n",
    "add = \"\"\n",
    "i=0\n",
    "\n",
    "start_time = time.time()\n",
    "while not findEnd(maze2, add): \n",
    "    i += 1\n",
    "    add = nums.get()\n",
    "    for j in [\"L\", \"R\", \"U\", \"D\"]:\n",
    "        if len(add) > 0:\n",
    "            last = add[-1]\n",
    "        else:\n",
    "            last = None\n",
    "        put = add + j\n",
    "        if valid(maze2, put) and isNotPrevious(j, last):\n",
    "            nums.put(put)\n",
    "exec_time_bfs = round((time.time() - start_time), 4)\n",
    "print(\"Tries: \", i)"
   ]
  },
  {
   "cell_type": "markdown",
   "metadata": {},
   "source": [
    "### Metoda brute-force\n",
    "---"
   ]
  },
  {
   "cell_type": "code",
   "execution_count": 4,
   "metadata": {},
   "outputs": [],
   "source": [
    "def brute(n):\n",
    "    allMoves = []\n",
    "    start_time = time.time()\n",
    "    for i in range(n):\n",
    "        moves = []\n",
    "        currLoc = [1,1]\n",
    "        \n",
    "        for j in range(40):\n",
    "            move = random.randint(0,4)\n",
    "            \n",
    "            # PASS \n",
    "            if move == 0:\n",
    "                continue \n",
    "\n",
    "            # UP\n",
    "            elif move == 1:\n",
    "                if maze[currLoc[0]-1][currLoc[1]] == 0:\n",
    "                    continue\n",
    "                currLoc = [currLoc[0]-1, currLoc[1]]\n",
    "\n",
    "            # DOWN\n",
    "            elif move == 2:\n",
    "                if maze[currLoc[0]+1][currLoc[1]] == 0:\n",
    "                    continue            \n",
    "                currLoc = [currLoc[0]+1, currLoc[1]]  \n",
    "\n",
    "            # RIGHT\n",
    "            elif move == 3:\n",
    "                if maze[currLoc[0]][currLoc[1]+1] == 0:\n",
    "                    continue\n",
    "                currLoc = [currLoc[0], currLoc[1]+1]   \n",
    "\n",
    "            # LEFT\n",
    "            elif move == 4:\n",
    "                if maze[currLoc[0]][currLoc[1]-1] == 0:\n",
    "                    continue\n",
    "                currLoc = [currLoc[0], currLoc[1]-1]   \n",
    "\n",
    "        # CALCULATE EUCLIDEAN DISTANCE\n",
    "        x = currLoc[0] - END_LOCATION[0]\n",
    "        y = currLoc[1] - END_LOCATION[1]\n",
    "        \n",
    "        distance = math.sqrt(x ** 2 + y ** 2)\n",
    "        allMoves.append(distance)\n",
    "        \n",
    "    return allMoves\n",
    "\n",
    "start_time = time.time()\n",
    "a = brute(300000)\n",
    "brute_exec_time = time.time() - start_time\n",
    "found_brute = np.min(a) == 0"
   ]
  },
  {
   "cell_type": "markdown",
   "metadata": {},
   "source": [
    "# Algorytm genetyczny\n",
    "---"
   ]
  },
  {
   "cell_type": "code",
   "execution_count": 5,
   "metadata": {},
   "outputs": [],
   "source": [
    "creator.create(\"FitnessMax\", base.Fitness, weights=(1.0,))\n",
    "creator.create(\"Individual\", list, fitness=creator.FitnessMax)"
   ]
  },
  {
   "cell_type": "markdown",
   "metadata": {},
   "source": [
    "### Struktura chromosomu\n",
    "***\n",
    "Chromosom jest ciągiem o długości 40. Każdy element moze mieć wartość od 0 do 4 i odpowiada zachowaniu w labiryncie:\n",
    "- 0 - pozostanie w miejscu\n",
    "- 1 - ruch w górę\n",
    "- 2 - ruch w dół\n",
    "- 3 - ruch w prawo\n",
    "- 4 - ruch w lewo\n",
    "\n",
    "Chromosom jest tym lepszy im bliżej wyjścia znajduje się jego punkt końcowy oraz im mniej błędów popełni."
   ]
  },
  {
   "cell_type": "code",
   "execution_count": 6,
   "metadata": {},
   "outputs": [],
   "source": [
    "toolbox = base.Toolbox()\n",
    "toolbox.register(\"attr_int\", random.choice, [0, 1, 2, 3, 4])\n",
    "toolbox.register(\"individual\", tools.initRepeat, creator.Individual, toolbox.attr_int, n=40)\n",
    "toolbox.register(\"population\", tools.initRepeat, list, toolbox.individual)"
   ]
  },
  {
   "cell_type": "markdown",
   "metadata": {},
   "source": [
    "### Funkcja fitness v.1\n",
    "***\n",
    "Funkcja ocenia chromosom na podstawie:\n",
    "- długości euklidesowej między jego punktem końcowym a punktem wyjścia \n",
    "- otrzymanch kar\n",
    "\n",
    "Chromosom jest karany za każdy ruch w ścianę lub cofnięcie się do poprzedniego pola.\n",
    "***\n",
    "Ostateczna ocena chromosomu jest obliczana wg wzoru:\n",
    "\n",
    "$$ocena = -1 * (eukl.- \\frac{1}{kary+1}\\ )$$\n"
   ]
  },
  {
   "cell_type": "code",
   "execution_count": 7,
   "metadata": {},
   "outputs": [],
   "source": [
    "def evalMazeEuclidean(individual):\n",
    "    penalties = 0\n",
    "    currLoc = [1,1]\n",
    "    lastMove = None\n",
    "    \n",
    "    for move in individual:\n",
    "        # PASS \n",
    "        if move == 0:\n",
    "            continue \n",
    "            \n",
    "        # UP\n",
    "        elif move == 1:\n",
    "            if maze[currLoc[0]-1][currLoc[1]] == 0 or lastMove == 1:\n",
    "                penalties += 1\n",
    "                continue\n",
    "            currLoc = [currLoc[0]-1, currLoc[1]]\n",
    "            lastMove = 2\n",
    "                       \n",
    "        # DOWN\n",
    "        elif move == 2:\n",
    "            if maze[currLoc[0]+1][currLoc[1]] == 0 or lastMove == 2:\n",
    "                penalties += 1\n",
    "                continue            \n",
    "            currLoc = [currLoc[0]+1, currLoc[1]]  \n",
    "            lastMove = 1\n",
    " \n",
    "        # RIGHT\n",
    "        elif move == 3:\n",
    "            if maze[currLoc[0]][currLoc[1]+1] == 0 or lastMove == 3:\n",
    "                penalties += 1\n",
    "                continue\n",
    "            currLoc = [currLoc[0], currLoc[1]+1]   \n",
    "            lastMove = 4\n",
    "            \n",
    "        # LEFT\n",
    "        elif move == 4:\n",
    "            if maze[currLoc[0]][currLoc[1]-1] == 0 or lastMove == 4:\n",
    "                penalties += 1\n",
    "                continue\n",
    "            currLoc = [currLoc[0], currLoc[1]-1]   \n",
    "            lastMove = 3\n",
    "    \n",
    "    # CALCULATE EUCLIDEAN DISTANCE\n",
    "    x = currLoc[0] - END_LOCATION[0]\n",
    "    y = currLoc[1] - END_LOCATION[1]\n",
    "    \n",
    "    distance = math.sqrt(x**2 + y**2)\n",
    "    \n",
    "    # CALCULATE VALUE \n",
    "    value = -(distance - 1/(penalties + 1))\n",
    "    return value,"
   ]
  },
  {
   "cell_type": "code",
   "execution_count": 8,
   "metadata": {
    "jupyter": {
     "source_hidden": true
    }
   },
   "outputs": [],
   "source": [
    "# chrom1= toolbox.individual()\n",
    "# chrom2 = [0, 0, 3, 0, 0, 0, 0, 3, 0, 2, 0, 3, 3, 1, 3, 3, 0, 0, 0, 0, 0, 2, 0, 2, 2, 2, 0, 2, 0, 3, 0, 3, 2, 3, 0, 2, 0, 0, 2, 2]\n",
    "# print(chrom1)\n",
    "# print(evalMazeEuclidean(chrom1))\n",
    "# print(chrom2)\n",
    "# print(evalMazeEuclidean(chrom2))"
   ]
  },
  {
   "cell_type": "markdown",
   "metadata": {},
   "source": [
    "### Funkcja fitness v.2 \n",
    "***\n",
    "Funkcja ocenia chromosom na podstawie:\n",
    "- odległości taskówkowej między jego punktem końcowym a punktem wyjścia \n",
    "- otrzymanch kar\n",
    "\n",
    "Chromosom jest karany za każdy ruch w ścianę lub cofnięcie się do poprzedniego pola.\n",
    "***\n",
    "Ostateczna ocena chromosomu jest obliczana wg wzoru:\n",
    "\n",
    "$$ocena = -1 * (taxicab- \\frac{1}{kary+1}\\ )$$\n"
   ]
  },
  {
   "cell_type": "code",
   "execution_count": 9,
   "metadata": {},
   "outputs": [],
   "source": [
    "def evalMazeTaxicab(individual):\n",
    "    penalties = 0\n",
    "    currLoc = [1,1]\n",
    "    lastMove = None\n",
    "    \n",
    "    for move in individual:\n",
    "        # PASS \n",
    "        if move == 0:\n",
    "            continue \n",
    "            \n",
    "        # UP\n",
    "        elif move == 1:\n",
    "            if maze[currLoc[0]-1][currLoc[1]] == 0 or lastMove == 1:\n",
    "                penalties += 1\n",
    "                continue\n",
    "            currLoc = [currLoc[0]-1, currLoc[1]]\n",
    "            lastMove = 2\n",
    "                       \n",
    "        # DOWN\n",
    "        elif move == 2:\n",
    "            if maze[currLoc[0]+1][currLoc[1]] == 0 or lastMove == 2:\n",
    "                penalties += 1\n",
    "                continue            \n",
    "            currLoc = [currLoc[0]+1, currLoc[1]]  \n",
    "            lastMove = 1\n",
    " \n",
    "        # RIGHT\n",
    "        elif move == 3:\n",
    "            if maze[currLoc[0]][currLoc[1]+1] == 0 or lastMove == 3:\n",
    "                penalties += 1\n",
    "                continue\n",
    "            currLoc = [currLoc[0], currLoc[1]+1]   \n",
    "            lastMove = 4\n",
    "            \n",
    "        # LEFT\n",
    "        elif move == 4:\n",
    "            if maze[currLoc[0]][currLoc[1]-1] == 0 or lastMove == 4:\n",
    "                penalties += 1\n",
    "                continue\n",
    "            currLoc = [currLoc[0], currLoc[1]-1]   \n",
    "            lastMove = 3\n",
    "    \n",
    "    # CALCULATE TAXICAB METRICS\n",
    "    x = abs(currLoc[0] - END_LOCATION[0])\n",
    "    y = abs(currLoc[1] - END_LOCATION[1])\n",
    "    \n",
    "    distance = x + y\n",
    "    \n",
    "    # CALCULATE VALUE \n",
    "    value = -(distance - 1/(penalties + 1))\n",
    "#     value = -distance\n",
    "    return value,"
   ]
  },
  {
   "cell_type": "code",
   "execution_count": 10,
   "metadata": {
    "jupyter": {
     "source_hidden": true
    }
   },
   "outputs": [],
   "source": [
    "# chrom1= toolbox.individual()\n",
    "# chrom2 = [0, 0, 3, 0, 0, 0, 0, 3, 0, 2, 0, 3, 3, 1, 3, 3, 0, 0, 0, 0, 0, 2, 0, 2, 2, 2, 0, 2, 0, 3, 0, 3, 2, 3, 0, 2, 0, 0, 2, 2]\n",
    "# print(chrom1)\n",
    "# print(evalMazeTaxicab(chrom1))\n",
    "# print(\"-----\")\n",
    "# print(chrom2)\n",
    "# print(evalMazeTaxicab(chrom2))"
   ]
  },
  {
   "cell_type": "markdown",
   "metadata": {},
   "source": [
    "---"
   ]
  },
  {
   "cell_type": "code",
   "execution_count": 11,
   "metadata": {},
   "outputs": [],
   "source": [
    "def chromosomeToData(chromosome):\n",
    "    moves = []\n",
    "    movesCount = 0\n",
    "    currLoc = [1,1]\n",
    "    found = False\n",
    "\n",
    "    for i in range(len(chromosome)):\n",
    "        if chromosome[i] == 0:\n",
    "            continue\n",
    "        elif chromosome[i] == 1:\n",
    "            moves.append(\"UP\")\n",
    "            currLoc = [currLoc[0]-1, currLoc[1]]\n",
    "            movesCount += 1\n",
    "        elif chromosome[i] == 2:\n",
    "            moves.append(\"DOWN\")\n",
    "            currLoc = [currLoc[0]+1, currLoc[1]]\n",
    "            movesCount += 1\n",
    "        elif chromosome[i] == 3:\n",
    "            moves.append(\"RIGHT\")\n",
    "            currLoc = [currLoc[0], currLoc[1]+1]\n",
    "            movesCount += 1\n",
    "        elif chromosome[i] == 4:\n",
    "            moves.append(\"LEFT\")\n",
    "            currLoc = [currLoc[0], currLoc[1]-1]\n",
    "            movesCount += 1\n",
    "            \n",
    "    if currLoc == [10, 10]:\n",
    "        found = True\n",
    "            \n",
    "    return [moves, movesCount, found]"
   ]
  },
  {
   "cell_type": "markdown",
   "metadata": {},
   "source": [
    "## Tournament\n",
    "---"
   ]
  },
  {
   "cell_type": "code",
   "execution_count": 12,
   "metadata": {},
   "outputs": [],
   "source": [
    "def genetic_tournament(fitness_func):\n",
    "    toolbox.register(\"evaluate\", fitness_func)\n",
    "    toolbox.register(\"mate\", tools.cxTwoPoint)\n",
    "    toolbox.register(\"mutate\", tools.mutUniformInt, low=0, up=4, indpb=0.1) \n",
    "    toolbox.register(\"select\", tools.selTournament, tournsize=5)\n",
    "    \n",
    "    pop = toolbox.population(n=200) # generate population of 300\n",
    "    hof = tools.HallOfFame(1) # get the best individual\n",
    "    \n",
    "    start_time = time.time()\n",
    "    stats = tools.Statistics(lambda ind: ind.fitness.values)\n",
    "    stats.register(\"avg\", np.mean)\n",
    "    stats.register(\"min\", np.min)\n",
    "    stats.register(\"max\", np.max)\n",
    "    stats.register(\"time\", lambda t: time.time() - start_time)\n",
    "\n",
    "    pop, logbook = algorithms.eaSimple(pop, toolbox, cxpb=0.5, mutpb=0.1, ngen=200, stats=stats, \n",
    "                                       halloffame=hof, verbose=False)\n",
    "\n",
    "    return pop, logbook, hof"
   ]
  },
  {
   "cell_type": "code",
   "execution_count": 13,
   "metadata": {},
   "outputs": [
    {
     "name": "stdout",
     "output_type": "stream",
     "text": [
      "-----------------------------------------------------\n",
      "Best individual is: [3, 3, 2, 0, 0, 3, 0, 0, 0, 3, 1, 3, 0, 0, 0, 0, 3, 0, 2, 0, 0, 2, 0, 2, 0, 0, 2, 2, 0, 3, 3, 0, 2, 0, 3, 0, 2, 2, 0, 2]\n",
      "which are moves: ['RIGHT', 'RIGHT', 'DOWN', 'RIGHT', 'RIGHT', 'UP', 'RIGHT', 'RIGHT', 'DOWN', 'DOWN', 'DOWN', 'DOWN', 'DOWN', 'RIGHT', 'RIGHT', 'DOWN', 'RIGHT', 'DOWN', 'DOWN', 'DOWN'] \n",
      "total score: (1.0,)\n",
      "total moves: 20\n",
      "Found end: True\n",
      "Time to best individual:  0.9675  seconds\n",
      "------------------ 1.8799 seconds -------------------\n"
     ]
    },
    {
     "data": {
      "image/png": "[encoded data removed]",
      "text/plain": [
       "<Figure size 720x432 with 2 Axes>"
      ]
     },
     "metadata": {
      "needs_background": "light"
     },
     "output_type": "display_data"
    }
   ],
   "source": [
    "pop, log, hof = genetic_tournament(evalMazeEuclidean)\n",
    "gen, avg, min_, max_, time_ = log.select(\"gen\", \"avg\", \"min\", \"max\", \"time\")\n",
    "exec_time_euclidean_TRNM = round(time_[-1], 4)\n",
    "eucl_data_TRNM = chromosomeToData(hof[0])\n",
    "\n",
    "moves = eucl_data_TRNM[0]\n",
    "movesCount = eucl_data_TRNM[1]\n",
    "\n",
    "time_best = round(time_[max_.index(np.max(max_))], 4)\n",
    "\n",
    "print('-----------------------------------------------------')\n",
    "print(\"Best individual is: %s\\nwhich are moves: %s \\ntotal score: %s\\ntotal moves: %s\" \n",
    "      % (hof[0], moves, hof[0].fitness, movesCount))\n",
    "print(\"Found end:\", eucl_data_TRNM[2] )\n",
    "print(\"Time to best individual: \", time_best, \" seconds\")\n",
    "print(\"------------------ %s seconds -------------------\" % exec_time_euclidean_TRNM)\n",
    "\n",
    "\n",
    "fig, ax1 = plt.subplots(figsize=(10, 6))\n",
    "avg_line = ax1.plot(gen, avg, \"r-\", label=\"Avg fitness\")\n",
    "max_line = ax1.plot(gen, max_, \"b-\", label=\"Max fitness\")\n",
    "ax1.set_xlabel(\"Generation\")\n",
    "ax1.set_ylabel(\"Fitness\", color=\"k\")\n",
    "\n",
    "ax2 = ax1.twinx()\n",
    "line2 = ax2.plot(gen, time_, \"c--\", label=\"Elapsed time\", alpha=0.35)\n",
    "ax2.set_ylabel(\"Time [s]\", color=\"k\")\n",
    "\n",
    "lns = max_line + avg_line + line2\n",
    "labs = [l.get_label() for l in lns]\n",
    "ax1.legend(lns, labs, loc=\"center right\")\n",
    "plt.title(\"Genetic algorithm\", fontdict={'fontsize': 16})\n",
    "plt.show()"
   ]
  },
  {
   "cell_type": "code",
   "execution_count": 14,
   "metadata": {},
   "outputs": [
    {
     "name": "stdout",
     "output_type": "stream",
     "text": [
      "-----------------------------------------------------\n",
      "Best individual is: [3, 0, 0, 0, 0, 0, 0, 3, 0, 2, 3, 0, 3, 1, 3, 0, 0, 3, 2, 0, 2, 0, 2, 0, 0, 0, 0, 2, 2, 0, 3, 3, 2, 3, 0, 0, 2, 2, 2, 0]\n",
      "which are moves: ['RIGHT', 'RIGHT', 'DOWN', 'RIGHT', 'RIGHT', 'UP', 'RIGHT', 'RIGHT', 'DOWN', 'DOWN', 'DOWN', 'DOWN', 'DOWN', 'RIGHT', 'RIGHT', 'DOWN', 'RIGHT', 'DOWN', 'DOWN', 'DOWN'] \n",
      "total score: (1.0,)\n",
      "total moves: 20\n",
      "Found end: True\n",
      "Time to best individual:  1.0408  seconds\n",
      "------------------ 1.8354 seconds -------------------\n"
     ]
    },
    {
     "data": {
      "image/png": "[encoded data removed]",
      "text/plain": [
       "<Figure size 720x432 with 2 Axes>"
      ]
     },
     "metadata": {
      "needs_background": "light"
     },
     "output_type": "display_data"
    }
   ],
   "source": [
    "pop, log, hof = genetic_tournament(evalMazeTaxicab)\n",
    "gen, avg, min_, max_, time_ = log.select(\"gen\", \"avg\", \"min\", \"max\", \"time\")\n",
    "exec_time_taxicab_TRNM = round(time_[-1], 4)\n",
    "taxicab_data_TRNM = chromosomeToData(hof[0])\n",
    "\n",
    "moves = taxicab_data_TRNM[0]\n",
    "movesCount = taxicab_data_TRNM[1]\n",
    "\n",
    "time_best = round(time_[max_.index(np.max(max_))], 4)\n",
    "\n",
    "print('-----------------------------------------------------')\n",
    "print(\"Best individual is: %s\\nwhich are moves: %s \\ntotal score: %s\\ntotal moves: %s\" \n",
    "      % (hof[0], moves, hof[0].fitness, movesCount))\n",
    "print(\"Found end:\", taxicab_data_TRNM[2] )\n",
    "print(\"Time to best individual: \", time_best, \" seconds\")\n",
    "print(\"------------------ %s seconds -------------------\" % exec_time_taxicab_TRNM)\n",
    "\n",
    "\n",
    "fig, ax1 = plt.subplots(figsize=(10, 6))\n",
    "avg_line = ax1.plot(gen, avg, \"r-\", label=\"Avg fitness\")\n",
    "max_line = ax1.plot(gen, max_, \"b-\", label=\"Max fitness\")\n",
    "ax1.set_xlabel(\"Generation\")\n",
    "ax1.set_ylabel(\"Fitness\", color=\"k\")\n",
    "\n",
    "ax2 = ax1.twinx()\n",
    "line2 = ax2.plot(gen, time_, \"c--\", label=\"Elapsed time\", alpha=0.35)\n",
    "ax2.set_ylabel(\"Time [s]\", color=\"k\")\n",
    "\n",
    "lns = max_line + avg_line + line2\n",
    "labs = [l.get_label() for l in lns]\n",
    "ax1.legend(lns, labs, loc=\"center right\")\n",
    "plt.title(\"Genetic algorithm\", fontdict={'fontsize': 16})\n",
    "plt.show()"
   ]
  },
  {
   "cell_type": "markdown",
   "metadata": {},
   "source": [
    "## Elityzm\n",
    "---"
   ]
  },
  {
   "cell_type": "code",
   "execution_count": 15,
   "metadata": {},
   "outputs": [],
   "source": [
    "def genetic_elitism(fitness_func):\n",
    "    toolbox.register(\"evaluate\", fitness_func)\n",
    "    toolbox.register(\"mate\", tools.cxTwoPoint)\n",
    "    toolbox.register(\"mutate\", tools.mutUniformInt, low=0, up=4, indpb=0.1) \n",
    "    toolbox.register(\"select\", tools.selBest)\n",
    "\n",
    "    import numpy\n",
    "    pop = toolbox.population(n=200) # generate population of 300\n",
    "    hof = tools.HallOfFame(1) # get the best individual\n",
    "    start_time = time.time()\n",
    "    stats = tools.Statistics(lambda ind: ind.fitness.values)\n",
    "    stats.register(\"avg\", np.mean)\n",
    "    stats.register(\"min\", np.min)\n",
    "    stats.register(\"max\", np.max)\n",
    "    stats.register(\"time\", lambda t: time.time() - start_time)\n",
    "\n",
    "    pop, logbook = algorithms.eaMuPlusLambda(pop, toolbox, mu=30, lambda_ = 300, cxpb=0.5, mutpb=0.2, \n",
    "                                              ngen=100, stats=stats, halloffame=hof, verbose=False)\n",
    "    \n",
    "    return pop, logbook, hof"
   ]
  },
  {
   "cell_type": "markdown",
   "metadata": {},
   "source": [
    "---"
   ]
  },
  {
   "cell_type": "code",
   "execution_count": 16,
   "metadata": {},
   "outputs": [
    {
     "name": "stdout",
     "output_type": "stream",
     "text": [
      "-----------------------------------------------------\n",
      "Best individual is: [0, 0, 0, 0, 0, 0, 0, 0, 3, 0, 0, 0, 0, 3, 2, 0, 0, 3, 3, 0, 1, 0, 3, 3, 2, 0, 2, 2, 2, 0, 2, 3, 3, 2, 3, 0, 2, 2, 0, 2]\n",
      "which are moves: ['RIGHT', 'RIGHT', 'DOWN', 'RIGHT', 'RIGHT', 'UP', 'RIGHT', 'RIGHT', 'DOWN', 'DOWN', 'DOWN', 'DOWN', 'DOWN', 'RIGHT', 'RIGHT', 'DOWN', 'RIGHT', 'DOWN', 'DOWN', 'DOWN'] \n",
      "total score: (1.0,)\n",
      "total moves: 20\n",
      "Found end: True\n",
      "Time to best individual:  0.7468  seconds\n",
      "------------------ 1.5625 seconds -------------------\n"
     ]
    },
    {
     "data": {
      "image/png": "[encoded data removed]",
      "text/plain": [
       "<Figure size 720x432 with 2 Axes>"
      ]
     },
     "metadata": {
      "needs_background": "light"
     },
     "output_type": "display_data"
    }
   ],
   "source": [
    "pop, log, hof = genetic_elitism(evalMazeEuclidean)\n",
    "gen, avg, min_, max_, time_ = log.select(\"gen\", \"avg\", \"min\", \"max\", \"time\")\n",
    "exec_time_euclidean_EL = round(time_[-1], 4)\n",
    "eucl_data_EL = chromosomeToData(hof[0])\n",
    "\n",
    "moves = eucl_data_EL[0]\n",
    "movesCount = eucl_data_EL[1]\n",
    "\n",
    "time_best = round(time_[max_.index(np.max(max_))], 4)\n",
    "\n",
    "print('-----------------------------------------------------')\n",
    "print(\"Best individual is: %s\\nwhich are moves: %s \\ntotal score: %s\\ntotal moves: %s\" \n",
    "      % (hof[0], moves, hof[0].fitness, movesCount))\n",
    "print(\"Found end:\", eucl_data_EL[2] )\n",
    "print(\"Time to best individual: \", time_best, \" seconds\")\n",
    "print(\"------------------ %s seconds -------------------\" % exec_time_euclidean_EL)\n",
    "\n",
    "\n",
    "fig, ax1 = plt.subplots(figsize=(10, 6))\n",
    "avg_line = ax1.plot(gen, avg, \"r-\", label=\"Avg fitness\")\n",
    "max_line = ax1.plot(gen, max_, \"b-\", label=\"Max fitness\")\n",
    "ax1.set_xlabel(\"Generation\")\n",
    "ax1.set_ylabel(\"Fitness\", color=\"k\")\n",
    "\n",
    "ax2 = ax1.twinx()\n",
    "line2 = ax2.plot(gen, time_, \"c--\", label=\"Elapsed time\", alpha=0.35)\n",
    "ax2.set_ylabel(\"Time [s]\", color=\"k\")\n",
    "\n",
    "lns = max_line + avg_line + line2\n",
    "labs = [l.get_label() for l in lns]\n",
    "ax1.legend(lns, labs, loc=\"center right\")\n",
    "plt.title(\"Genetic algorithm\", fontdict={'fontsize': 16})\n",
    "plt.show()"
   ]
  },
  {
   "cell_type": "code",
   "execution_count": 17,
   "metadata": {},
   "outputs": [
    {
     "name": "stdout",
     "output_type": "stream",
     "text": [
      "-----------------------------------------------------\n",
      "Best individual is: [0, 0, 3, 0, 0, 0, 0, 0, 3, 2, 3, 0, 3, 0, 0, 0, 1, 0, 0, 0, 3, 3, 0, 2, 2, 0, 0, 2, 2, 2, 0, 3, 0, 3, 2, 0, 3, 2, 2, 2]\n",
      "which are moves: ['RIGHT', 'RIGHT', 'DOWN', 'RIGHT', 'RIGHT', 'UP', 'RIGHT', 'RIGHT', 'DOWN', 'DOWN', 'DOWN', 'DOWN', 'DOWN', 'RIGHT', 'RIGHT', 'DOWN', 'RIGHT', 'DOWN', 'DOWN', 'DOWN'] \n",
      "total score: (1.0,)\n",
      "total moves: 20\n",
      "Found end: True\n",
      "Time to best individual:  0.5293  seconds\n",
      "------------------ 1.5506 seconds -------------------\n"
     ]
    },
    {
     "data": {
      "image/png": "[encoded data removed]",
      "text/plain": [
       "<Figure size 720x432 with 2 Axes>"
      ]
     },
     "metadata": {
      "needs_background": "light"
     },
     "output_type": "display_data"
    }
   ],
   "source": [
    "pop, log, hof = genetic_elitism(evalMazeTaxicab)\n",
    "gen, avg, min_, max_, time_ = log.select(\"gen\", \"avg\", \"min\", \"max\", \"time\")\n",
    "exec_time_taxicab_EL = round(time_[-1], 4)\n",
    "taxicab_data_EL = chromosomeToData(hof[0])\n",
    "\n",
    "moves = taxicab_data_EL[0]\n",
    "movesCount = taxicab_data_EL[1]\n",
    "\n",
    "time_best = round(time_[max_.index(np.max(max_))], 4)\n",
    "\n",
    "print('-----------------------------------------------------')\n",
    "print(\"Best individual is: %s\\nwhich are moves: %s \\ntotal score: %s\\ntotal moves: %s\" \n",
    "      % (hof[0], moves, hof[0].fitness, movesCount))\n",
    "print(\"Found end:\", taxicab_data_EL[2] )\n",
    "print(\"Time to best individual: \", time_best, \" seconds\")\n",
    "print(\"------------------ %s seconds -------------------\" % exec_time_taxicab_EL)\n",
    "\n",
    "\n",
    "fig, ax1 = plt.subplots(figsize=(10, 6))\n",
    "avg_line = ax1.plot(gen, avg, \"r-\", label=\"Avg fitness\")\n",
    "max_line = ax1.plot(gen, max_, \"b-\", label=\"Max fitness\")\n",
    "ax1.set_xlabel(\"Generation\")\n",
    "ax1.set_ylabel(\"Fitness\", color=\"k\")\n",
    "\n",
    "ax2 = ax1.twinx()\n",
    "line2 = ax2.plot(gen, time_, \"c--\", label=\"Elapsed time\", alpha=0.35)\n",
    "ax2.set_ylabel(\"Time [s]\", color=\"k\")\n",
    "\n",
    "lns = max_line + avg_line + line2\n",
    "labs = [l.get_label() for l in lns]\n",
    "ax1.legend(lns, labs, loc=\"center right\")\n",
    "plt.title(\"Genetic algorithm\", fontdict={'fontsize': 16})\n",
    "plt.show()"
   ]
  },
  {
   "cell_type": "markdown",
   "metadata": {},
   "source": [
    "# Podsumowanie\n",
    "---"
   ]
  },
  {
   "cell_type": "code",
   "execution_count": 18,
   "metadata": {},
   "outputs": [
    {
     "data": {
      "text/html": [
       "<div>\n",
       "<style scoped>\n",
       "    .dataframe tbody tr th:only-of-type {\n",
       "        vertical-align: middle;\n",
       "    }\n",
       "\n",
       "    .dataframe tbody tr th {\n",
       "        vertical-align: top;\n",
       "    }\n",
       "\n",
       "    .dataframe thead th {\n",
       "        text-align: right;\n",
       "    }\n",
       "</style>\n",
       "<table border=\"1\" class=\"dataframe\">\n",
       "  <thead>\n",
       "    <tr style=\"text-align: right;\">\n",
       "      <th></th>\n",
       "      <th>time</th>\n",
       "      <th>found</th>\n",
       "    </tr>\n",
       "  </thead>\n",
       "  <tbody>\n",
       "    <tr>\n",
       "      <th>BFS</th>\n",
       "      <td>0.012900</td>\n",
       "      <td>True</td>\n",
       "    </tr>\n",
       "    <tr>\n",
       "      <th>Brute force</th>\n",
       "      <td>12.495047</td>\n",
       "      <td>False</td>\n",
       "    </tr>\n",
       "    <tr>\n",
       "      <th>Genetic eucl. TRNM</th>\n",
       "      <td>1.879900</td>\n",
       "      <td>True</td>\n",
       "    </tr>\n",
       "    <tr>\n",
       "      <th>Genetic taxi. TRNM</th>\n",
       "      <td>1.835400</td>\n",
       "      <td>True</td>\n",
       "    </tr>\n",
       "    <tr>\n",
       "      <th>Genetic eucl. EL</th>\n",
       "      <td>1.562500</td>\n",
       "      <td>True</td>\n",
       "    </tr>\n",
       "    <tr>\n",
       "      <th>Genetic taxi. EL</th>\n",
       "      <td>1.550600</td>\n",
       "      <td>True</td>\n",
       "    </tr>\n",
       "  </tbody>\n",
       "</table>\n",
       "</div>"
      ],
      "text/plain": [
       "                         time  found\n",
       "BFS                  0.012900   True\n",
       "Brute force         12.495047  False\n",
       "Genetic eucl. TRNM   1.879900   True\n",
       "Genetic taxi. TRNM   1.835400   True\n",
       "Genetic eucl. EL     1.562500   True\n",
       "Genetic taxi. EL     1.550600   True"
      ]
     },
     "execution_count": 18,
     "metadata": {},
     "output_type": "execute_result"
    }
   ],
   "source": [
    "import pandas as pd\n",
    "algs = [\"BFS\", \"Brute force\", \"Genetic eucl. TRNM\", \"Genetic taxi. TRNM\", \"Genetic eucl. EL\", \"Genetic taxi. EL\"]\n",
    "exec_times = [exec_time_bfs, brute_exec_time, exec_time_euclidean_TRNM, exec_time_taxicab_TRNM, exec_time_euclidean_EL, exec_time_taxicab_EL]\n",
    "founds = [True, found_brute, eucl_data_TRNM[2], taxicab_data_TRNM[2], eucl_data_EL[2], taxicab_data_EL[2]]\n",
    "data = {\n",
    "    \"time\": exec_times,\n",
    "    \"found\": founds\n",
    "}\n",
    "df = pd.DataFrame(data, index=algs)\n",
    "df"
   ]
  }
 ],
 "metadata": {
  "kernelspec": {
   "display_name": "Python 3",
   "language": "python",
   "name": "python3"
  },
  "language_info": {
   "codemirror_mode": {
    "name": "ipython",
    "version": 3
   },
   "file_extension": ".py",
   "mimetype": "text/x-python",
   "name": "python",
   "nbconvert_exporter": "python",
   "pygments_lexer": "ipython3",
   "version": "3.8.5"
  }
 },
 "nbformat": 4,
 "nbformat_minor": 4
}
